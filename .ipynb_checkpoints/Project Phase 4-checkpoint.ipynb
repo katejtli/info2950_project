{
 "cells": [
  {
   "cell_type": "markdown",
   "id": "14154e94-f4bd-4b4f-8bd8-9d64a95b432b",
   "metadata": {},
   "source": [
    "# INFO 2950 Project: NBA Player Performance and Salary"
   ]
  },
  {
   "cell_type": "markdown",
   "id": "2ec7e0d1-2f00-4737-9dc6-ce0467990107",
   "metadata": {},
   "source": [
    "## Introduction\n",
    "#### Background Information\n",
    "\n",
    "\n",
    "#### Research Question(s)\n",
    "1. What individual performance metrics (points, rebounds, assists, blocks, steals, turnovers) best predict an NBA player's salary?\n",
    "2. How do NBA player salaries across a team impact team performance and playoff chances?"
   ]
  },
  {
   "cell_type": "markdown",
   "id": "9c1e6541-7b72-4f2b-ac75-f40d8b2b2e9b",
   "metadata": {},
   "source": [
    "## Data Description and Cleaning"
   ]
  },
  {
   "cell_type": "markdown",
   "id": "55a82c19-0de7-4966-a495-c18f5fc36682",
   "metadata": {},
   "source": [
    "In order to analyze these research questions, we found two datasets from Kaggle. Our [first dataset](https://www.kaggle.com/datasets/whitefero/nba-player-salary-19902017) includes NBA player salaries from the 1990-1991 season to the 2017-2018 season. Our [second dataset](https://www.kaggle.com/datasets/drgilermo/nba-players-stats?select=Seasons_Stats.csv) includes NBA player performance metrics from the 1950-1951 season to the 2017-2018 season. \n",
    "\n",
    "#### Data Collection\n",
    "\n",
    "(explain what we did to load our dataframe like download, print .head(), etc.)\n",
    "\n",
    "#### Data Cleaning\n",
    "\n",
    "(explain what we did when we cleaned our dataframes - SQL filtering, column removal, column renaming, joins, etc.)"
   ]
  },
  {
   "cell_type": "code",
   "execution_count": 1,
   "id": "f1660a75-9db1-4000-9cf4-acff13bf05b5",
   "metadata": {},
   "outputs": [],
   "source": [
    "import numpy as np\n",
    "import pandas as pd\n",
    "import matplotlib.pyplot as plt\n",
    "import seaborn as sns\n",
    "import datetime\n",
    "from sklearn.linear_model import LinearRegression, LogisticRegression\n",
    "import duckdb\n",
    "import requests\n",
    "from bs4 import BeautifulSoup\n",
    "import time"
   ]
  },
  {
   "cell_type": "code",
   "execution_count": 9,
   "id": "9a27268f-3db0-4469-b3bc-d9c209ec064c",
   "metadata": {},
   "outputs": [],
   "source": [
    "salaries = pd.read_csv('cleaned_salaries_df.csv')\n",
    "stats = pd.read_csv('cleaned_stats_df.csv')\n",
    "\n",
    "df = pd.read_csv('cleaned_df.csv')"
   ]
  },
  {
   "cell_type": "markdown",
   "id": "d64a632b-d9a1-4186-bb69-72a580f79999",
   "metadata": {},
   "source": [
    "## Pregistration Statements"
   ]
  },
  {
   "cell_type": "markdown",
   "id": "0494b6d7-7644-477d-bf86-9c61296929b7",
   "metadata": {},
   "source": [
    "## Data Analysis"
   ]
  },
  {
   "cell_type": "code",
   "execution_count": null,
   "id": "06fd1613-9685-4dad-9c96-34922bcbd89e",
   "metadata": {},
   "outputs": [],
   "source": [
    "# Create a train-test split of 70%-30% to ensure our linear regression model generalizes well\n",
    "train, test = train_test_split("
   ]
  },
  {
   "cell_type": "markdown",
   "id": "975fd833-d899-40a3-86cf-dbdffca4c51e",
   "metadata": {},
   "source": [
    "## Evaluation of Significance"
   ]
  },
  {
   "cell_type": "markdown",
   "id": "c88fe744-0e26-4fc0-975a-c98928d803f2",
   "metadata": {},
   "source": [
    "## Conclusions"
   ]
  },
  {
   "cell_type": "markdown",
   "id": "f58be7b4-194a-492b-bf1f-af3bdaf80cd5",
   "metadata": {},
   "source": [
    "## Limitations"
   ]
  },
  {
   "cell_type": "markdown",
   "id": "de9469db-5d2c-46dd-a370-3c4e81245f9b",
   "metadata": {},
   "source": [
    "## Ackowledgements and Bibliography"
   ]
  }
 ],
 "metadata": {
  "kernelspec": {
   "display_name": "Python 3 (ipykernel)",
   "language": "python",
   "name": "python3"
  },
  "language_info": {
   "codemirror_mode": {
    "name": "ipython",
    "version": 3
   },
   "file_extension": ".py",
   "mimetype": "text/x-python",
   "name": "python",
   "nbconvert_exporter": "python",
   "pygments_lexer": "ipython3",
   "version": "3.12.2"
  }
 },
 "nbformat": 4,
 "nbformat_minor": 5
}
