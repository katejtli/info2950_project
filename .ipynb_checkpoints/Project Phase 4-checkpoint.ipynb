{
 "cells": [
  {
   "cell_type": "markdown",
   "id": "14154e94-f4bd-4b4f-8bd8-9d64a95b432b",
   "metadata": {},
   "source": [
    "# INFO 2950 Project: NBA Player Performance and Salary"
   ]
  },
  {
   "cell_type": "markdown",
   "id": "2ec7e0d1-2f00-4737-9dc6-ce0467990107",
   "metadata": {},
   "source": [
    "## Introduction\n",
    "#### Background Information\n",
    "\n",
    "\n",
    "#### Research Question(s)\n",
    "1. What individual performance metrics (points, rebounds, assists, blocks, steals, turnovers) best predict an NBA player's salary?\n",
    "2. How do NBA player salaries across a team impact team performance and playoff chances?"
   ]
  },
  {
   "cell_type": "markdown",
   "id": "9c1e6541-7b72-4f2b-ac75-f40d8b2b2e9b",
   "metadata": {},
   "source": [
    "## Data Description and Cleaning"
   ]
  },
  {
   "cell_type": "markdown",
   "id": "55a82c19-0de7-4966-a495-c18f5fc36682",
   "metadata": {},
   "source": [
    "In order to analyze these research questions, we found two datasets from Kaggle. Our [first dataset](https://www.kaggle.com/datasets/whitefero/nba-player-salary-19902017) includes NBA player salaries from the 1990-1991 season to the 2017-2018 season. Our [second dataset](https://www.kaggle.com/datasets/drgilermo/nba-players-stats?select=Seasons_Stats.csv) includes NBA player performance metrics from the 1950-1951 season to the 2017-2018 season. \n",
    "\n",
    "#### Data Collection\n",
    "\n",
    "(explain what we did to load our dataframe like download, print .head(), etc.)\n",
    "\n",
    "#### Data Cleaning\n",
    "\n",
    "(explain what we did when we cleaned our dataframes - SQL filtering, column removal, column renaming, joins, etc.)"
   ]
  },
  {
   "cell_type": "code",
   "execution_count": 1,
   "id": "f1660a75-9db1-4000-9cf4-acff13bf05b5",
   "metadata": {},
   "outputs": [],
   "source": [
    "import pandas as pd\n",
    "import numpy as np\n",
    "from sklearn.linear_model import LinearRegression, LogisticRegression\n",
    "from sklearn.model_selection import train_test_split\n",
    "from scipy import stats\n",
    "import seaborn as sns\n",
    "import matplotlib.pyplot as plt"
   ]
  },
  {
   "cell_type": "code",
   "execution_count": 28,
   "id": "9a27268f-3db0-4469-b3bc-d9c209ec064c",
   "metadata": {},
   "outputs": [
    {
     "name": "stdout",
     "output_type": "stream",
     "text": [
      "              Player  Season Pos Team     G      Salary     PTS    AST    REB  \\\n",
      "0      Arron Afflalo  2010.0  SG  DEN  82.0   2328652.0   724.0  138.0  252.0   \n",
      "1  LaMarcus Aldridge  2010.0  PF  POR  78.0  21461010.0  1393.0  160.0  627.0   \n",
      "2         Tony Allen  2010.0  SG  BOS  54.0   2116955.0   330.0   72.0  145.0   \n",
      "3      Ryan Anderson  2010.0  PF  ORL  63.0  19578455.0   487.0   37.0  202.0   \n",
      "4    Carmelo Anthony  2010.0  SF  DEN  69.0  26243760.0  1943.0  222.0  454.0   \n",
      "\n",
      "    BLK   STL    TOV  \n",
      "0  30.0  46.0   74.0  \n",
      "1  48.0  67.0  104.0  \n",
      "2  19.0  59.0   66.0  \n",
      "3  14.0  25.0   56.0  \n",
      "4  30.0  88.0  209.0  \n"
     ]
    }
   ],
   "source": [
    "# load our datasets/csv files\n",
    "salaries = pd.read_csv('cleaned_salaries_df.csv')\n",
    "stats = pd.read_csv('cleaned_stats_df.csv')\n",
    "df = pd.read_csv('cleaned_df.csv')\n",
    "\n",
    "# combine the ORB and DRB columns of the df dataframe\n",
    "df['REB'] = df['ORB'] + df['DRB']\n",
    "df = df.drop(['ORB', 'DRB'], axis = 1)\n",
    "df = df.reindex(columns=['Player', 'Season', 'Pos', 'Team', 'G', 'Salary', 'PTS', 'AST', 'REB', 'BLK', 'STL', 'TOV'])\n",
    "print(df[:5])"
   ]
  },
  {
   "cell_type": "markdown",
   "id": "d64a632b-d9a1-4186-bb69-72a580f79999",
   "metadata": {},
   "source": [
    "## Pregistration Statements"
   ]
  },
  {
   "cell_type": "markdown",
   "id": "0494b6d7-7644-477d-bf86-9c61296929b7",
   "metadata": {},
   "source": [
    "## Data Analysis"
   ]
  },
  {
   "cell_type": "code",
   "execution_count": 48,
   "id": "06fd1613-9685-4dad-9c96-34922bcbd89e",
   "metadata": {},
   "outputs": [],
   "source": [
    "# Create a train-test split of 70%-30% to ensure our linear regression model generalizes well\n",
    "train, test = train_test_split(df, test_size = 0.3)"
   ]
  },
  {
   "cell_type": "markdown",
   "id": "ecb9ee15-8603-4f5f-aaea-885b69102697",
   "metadata": {},
   "source": [
    "Use training set to check that it is feasible to run a multivariable linear regression (heteroskedasticity, multicollinearity) \n",
    "\n",
    "further explanation needed\n",
    "\n",
    "use log transforms if needed\n",
    "\n",
    "use t-tests and f-tests to analyze the impacts of the individual coefficients and the model as a whole on salary respectively"
   ]
  },
  {
   "cell_type": "code",
   "execution_count": 49,
   "id": "3cde0572-e399-4ae4-8111-7f1c0e748c83",
   "metadata": {},
   "outputs": [
    {
     "name": "stdout",
     "output_type": "stream",
     "text": [
      "PTS: 5639.77\n",
      "AST: 11497.86\n",
      "REB: 7920.42\n",
      "BLK: 9596.79\n",
      "STL: -24891.38\n",
      "TOV: -21991.63\n",
      "intercept: 2972091.83\n"
     ]
    }
   ],
   "source": [
    "# Run a linear regression with the input being `categories` and the output being salary\n",
    "## do we need this section????\n",
    "categories = ['PTS', 'AST', 'REB', 'BLK', 'STL', 'TOV']\n",
    "X = df[categories]\n",
    "y = df['Salary']\n",
    "\n",
    "performance_salary_model = LinearRegression().fit(X, y)\n",
    "\n",
    "for category, coef in zip(categories, performance_salary_model.coef_):\n",
    "    print(f\"{category}: {round(coef, 2)}\")\n",
    "\n",
    "print(f\"intercept: {round(performance_salary_model.intercept_, 2)}\")"
   ]
  },
  {
   "cell_type": "markdown",
   "id": "975fd833-d899-40a3-86cf-dbdffca4c51e",
   "metadata": {},
   "source": [
    "## Evaluation of Significance"
   ]
  },
  {
   "cell_type": "markdown",
   "id": "c88fe744-0e26-4fc0-975a-c98928d803f2",
   "metadata": {},
   "source": [
    "## Conclusions"
   ]
  },
  {
   "cell_type": "markdown",
   "id": "f58be7b4-194a-492b-bf1f-af3bdaf80cd5",
   "metadata": {},
   "source": [
    "## Limitations"
   ]
  },
  {
   "cell_type": "markdown",
   "id": "de9469db-5d2c-46dd-a370-3c4e81245f9b",
   "metadata": {},
   "source": [
    "## Ackowledgements and Bibliography"
   ]
  }
 ],
 "metadata": {
  "kernelspec": {
   "display_name": "Python 3 (ipykernel)",
   "language": "python",
   "name": "python3"
  },
  "language_info": {
   "codemirror_mode": {
    "name": "ipython",
    "version": 3
   },
   "file_extension": ".py",
   "mimetype": "text/x-python",
   "name": "python",
   "nbconvert_exporter": "python",
   "pygments_lexer": "ipython3",
   "version": "3.12.2"
  }
 },
 "nbformat": 4,
 "nbformat_minor": 5
}
