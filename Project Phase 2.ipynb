{
 "cells": [
  {
   "cell_type": "markdown",
   "id": "35d5ba80-b05b-40b6-8cbc-c4907b04fde4",
   "metadata": {},
   "source": [
    "# Project Phase 2"
   ]
  },
  {
   "cell_type": "markdown",
   "id": "440253df-9c63-4154-ad09-0f211dd15080",
   "metadata": {},
   "source": [
    "Team Members: Kate Li (kl739), Audrey Holden (aeh252), Katherine Yee (ky424), Julian Correa (jfc297)\n",
    "\n",
    "Question: What factors predict an NBA player’s salary? Is there a relationship between an NBA player's performance and an increase in their salary? \n",
    "\n",
    "In this assignment we will be analyzing how the salaries of NBA players change depending on many different statistical variables, including points, assists, rebounds, blocks, steals, and etc. per game. We will train a multivariable regression to see if we can predict an NBA player's salary depending on their previous season(s) performance statistics. We will also see if there is a positive or negative correlation between performance and salary."
   ]
  },
  {
   "cell_type": "markdown",
   "id": "932f57f0-46e0-4659-bb18-86299af89eb2",
   "metadata": {},
   "source": [
    "## Data Collection and Cleaning"
   ]
  },
  {
   "cell_type": "code",
   "execution_count": 18,
   "id": "35bb4c83-9572-462a-9f76-91369bdc6802",
   "metadata": {},
   "outputs": [],
   "source": [
    "import requests\n",
    "from bs4 import BeautifulSoup\n",
    "\n",
    "import pandas as pd\n",
    "import numpy as np\n",
    "import time"
   ]
  },
  {
   "cell_type": "markdown",
   "id": "18bc91ad-8ac1-45e4-8905-efbe3e3cea9b",
   "metadata": {},
   "source": [
    "These are our websites that are stored into variables."
   ]
  },
  {
   "cell_type": "code",
   "execution_count": 19,
   "id": "ecb54062-144f-4f08-9842-aab4aad376d4",
   "metadata": {},
   "outputs": [],
   "source": [
    "NBA_stats = \"\"\"https://www.basketball-reference.com/players/\"\"\"\n",
    "ESPN_salaries = \"\"\"https://www.espn.com/nba/salaries\"\"\"\n",
    "stat_leaders = \"\"\"https://www.nba.com/stats/leaders?Season=2023-24&SeasonType=Regular+Season\"\"\"\n",
    "kaggle_salary = \"\"\"https://www.kaggle.com/datasets/thedevastator/exploring-nba-player-performance-and-salaries-19\"\"\""
   ]
  },
  {
   "cell_type": "markdown",
   "id": "12bcb86f-b288-40ba-9d04-acea0ddc30df",
   "metadata": {},
   "source": [
    "We are doing a GET request to the web hosts for the specified filenames. We are ensuring that we are able to make web requests to each website so that we can extract data. "
   ]
  },
  {
   "cell_type": "code",
   "execution_count": 20,
   "id": "dd6b848c-885d-4150-98b2-13c6d8a77c22",
   "metadata": {},
   "outputs": [
    {
     "name": "stdout",
     "output_type": "stream",
     "text": [
      "200\n",
      "403\n",
      "Something went wrong: 403 Forbidden\n",
      "200\n",
      "200\n"
     ]
    }
   ],
   "source": [
    "stats_result = requests.get(NBA_stats)\n",
    "print(stats_result.status_code)\n",
    "if stats_result.status_code != 200:\n",
    "    print(\"Something went wrong:\", stats_result.status_code, stats_result.reason)\n",
    "\n",
    "salaries_result = requests.get(ESPN_salaries)\n",
    "print(salaries_result.status_code)\n",
    "if salaries_result.status_code != 200:\n",
    "    print(\"Something went wrong:\", salaries_result.status_code, salaries_result.reason)\n",
    "\n",
    "stat_leaders_result = requests.get(stat_leaders)\n",
    "print(stat_leaders_result.status_code)\n",
    "if stat_leaders_result.status_code != 200:\n",
    "    print(\"Something went wrong:\", stat_leaders_result.status_code, stat_leaders_result.reason)\n",
    "\n",
    "kaggle_result = requests.get(kaggle_salary)\n",
    "print(kaggle_result.status_code)\n",
    "if kaggle_result.status_code != 200:\n",
    "    print(\"Something went wrong:\", kaggle_result.status_code, kaggle_result.reason)"
   ]
  },
  {
   "cell_type": "markdown",
   "id": "9ce1656c-0ea1-4809-874b-476aa3dfc07c",
   "metadata": {},
   "source": [
    "We converted each `GET` request with the requests library to a text string using .text and saved the converted outputs into new variables. We used print statements to ensure that we did this step properly."
   ]
  },
  {
   "cell_type": "code",
   "execution_count": 21,
   "id": "5a085999-5ed3-449e-96fe-adda9880bf9b",
   "metadata": {},
   "outputs": [
    {
     "name": "stdout",
     "output_type": "stream",
     "text": [
      "<class 'str'>\n",
      "<class 'str'>\n",
      "<class 'str'>\n",
      "<class 'str'>\n"
     ]
    }
   ],
   "source": [
    "stats_text = stats_result.text\n",
    "print(type(stats_text))\n",
    "\n",
    "salaries_text = salaries_result.text\n",
    "print(type(salaries_text))\n",
    "\n",
    "stat_leaders_text = stat_leaders_result.text\n",
    "print(type(stat_leaders_text))\n",
    "\n",
    "kaggle_text = kaggle_result.text\n",
    "print(type(kaggle_text))"
   ]
  },
  {
   "cell_type": "markdown",
   "id": "e981cf5f-4d19-4475-ad2d-25e40bb3c875",
   "metadata": {},
   "source": [
    "We converted each HTML text string to a searchable tree of tags using `BeautifulSoup`."
   ]
  },
  {
   "cell_type": "code",
   "execution_count": 23,
   "id": "ec37d193-401c-418f-8a9f-e4cbd78cbc9b",
   "metadata": {},
   "outputs": [],
   "source": [
    "page_one = BeautifulSoup(stats_text, \"html.parser\")\n",
    "page_two = BeautifulSoup(salaries_text, \"html.parser\")\n",
    "page_three = BeautifulSoup(stat_leaders_text, \"html.parser\")\n",
    "page_four = BeautifulSoup(kaggle_text, \"html.parser\")"
   ]
  },
  {
   "cell_type": "code",
   "execution_count": 24,
   "id": "0e471b12-23f0-4703-ae05-ef62c1859e34",
   "metadata": {},
   "outputs": [
    {
     "name": "stdout",
     "output_type": "stream",
     "text": [
      "None\n"
     ]
    }
   ],
   "source": [
    "leaders_info = page_three.find(\"tr\")\n",
    "print(leaders_info)\n",
    "hello"
   ]
  }
 ],
 "metadata": {
  "kernelspec": {
   "display_name": "Python 3 (ipykernel)",
   "language": "python",
   "name": "python3"
  },
  "language_info": {
   "codemirror_mode": {
    "name": "ipython",
    "version": 3
   },
   "file_extension": ".py",
   "mimetype": "text/x-python",
   "name": "python",
   "nbconvert_exporter": "python",
   "pygments_lexer": "ipython3",
   "version": "3.12.2"
  }
 },
 "nbformat": 4,
 "nbformat_minor": 5
}
