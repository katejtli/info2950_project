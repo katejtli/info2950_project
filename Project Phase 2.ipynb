{
 "cells": [
  {
   "cell_type": "markdown",
   "id": "35d5ba80-b05b-40b6-8cbc-c4907b04fde4",
   "metadata": {},
   "source": [
    "# Project Phase 2"
   ]
  },
  {
   "cell_type": "markdown",
   "id": "440253df-9c63-4154-ad09-0f211dd15080",
   "metadata": {},
   "source": [
    "Team Members: Kate Li (kl739), Audrey Holden (aeh252), Katherine Yee (ky424), Julian Correa (jfc297)"
   ]
  },
  {
   "cell_type": "markdown",
   "id": "616accd8-3ee2-4a12-90cb-0891a625ed3c",
   "metadata": {},
   "source": [
    "## Research Question"
   ]
  },
  {
   "cell_type": "markdown",
   "id": "b215e47b-04af-4a8d-8e6a-ca1ec018f5c2",
   "metadata": {},
   "source": [
    "Question: What factors predict an NBA player’s salary? Is there a relationship between an NBA player's performance and an increase in their salary? \n",
    "\n",
    "In this assignment we will be analyzing how the salaries of NBA players change depending on many different statistical variables, including points, assists, rebounds, blocks, steals, etc, per game. We will train a multivariable regression to see if we can predict an NBA player's salary depending on their previous season(s) performance statistics. Our model will hopefully help sports analysts better predict a contract that an NBA player may receive. It may also provide NBA team managers more insight into team spending and budgeting. \n",
    "\n",
    "We will also see if there is a positive or negative correlation between performance and salary. \n",
    "We also plan on analyzing different NBA player positions and examining the magnitude of salary changes depending on their respective stats. For example, a center having an increase in blocks per game may improve their salary, but a comparative increase in points per game by a shooting guard would most likely result in a dramatic increase in their salary given that offensive roles are more valuable."
   ]
  },
  {
   "cell_type": "markdown",
   "id": "932f57f0-46e0-4659-bb18-86299af89eb2",
   "metadata": {},
   "source": [
    "## Data Collection and Cleaning"
   ]
  },
  {
   "cell_type": "code",
   "execution_count": 1,
   "id": "35bb4c83-9572-462a-9f76-91369bdc6802",
   "metadata": {},
   "outputs": [],
   "source": [
    "import requests\n",
    "from bs4 import BeautifulSoup\n",
    "\n",
    "import pandas as pd\n",
    "import numpy as np\n",
    "import time"
   ]
  },
  {
   "cell_type": "markdown",
   "id": "18bc91ad-8ac1-45e4-8905-efbe3e3cea9b",
   "metadata": {},
   "source": [
    "These are our websites that are stored into variables."
   ]
  },
  {
   "cell_type": "code",
   "execution_count": 2,
   "id": "ecb54062-144f-4f08-9842-aab4aad376d4",
   "metadata": {},
   "outputs": [],
   "source": [
    "NBA_stats = \"\"\"https://www.basketball-reference.com/players/\"\"\"\n",
    "HH_salaries = \"\"\"https://hoopshype.com/salaries/players/\"\"\"\n",
    "stat_leaders = \"\"\"https://www.nba.com/stats/leaders?Season=2023-24&SeasonType=Regular+Season\"\"\"\n",
    "kaggle_salary = \"\"\"https://www.kaggle.com/datasets/thedevastator/exploring-nba-player-performance-and-salaries-19\"\"\""
   ]
  },
  {
   "cell_type": "markdown",
   "id": "12bcb86f-b288-40ba-9d04-acea0ddc30df",
   "metadata": {},
   "source": [
    "We are doing a GET request to the web hosts for the specified filenames. We are ensuring that we are able to make web requests to each website so that we can extract data. "
   ]
  },
  {
   "cell_type": "code",
   "execution_count": 3,
   "id": "dd6b848c-885d-4150-98b2-13c6d8a77c22",
   "metadata": {},
   "outputs": [
    {
     "name": "stdout",
     "output_type": "stream",
     "text": [
      "200\n",
      "200\n",
      "200\n",
      "200\n"
     ]
    }
   ],
   "source": [
    "stats_result = requests.get(NBA_stats)\n",
    "print(stats_result.status_code)\n",
    "if stats_result.status_code != 200:\n",
    "    print(\"Something went wrong:\", stats_result.status_code, stats_result.reason)\n",
    "\n",
    "salaries_result = requests.get(HH_salaries)\n",
    "print(salaries_result.status_code)\n",
    "if salaries_result.status_code != 200:\n",
    "    print(\"Something went wrong:\", salaries_result.status_code, salaries_result.reason)\n",
    "\n",
    "stat_leaders_result = requests.get(stat_leaders)\n",
    "print(stat_leaders_result.status_code)\n",
    "if stat_leaders_result.status_code != 200:\n",
    "    print(\"Something went wrong:\", stat_leaders_result.status_code, stat_leaders_result.reason)\n",
    "\n",
    "kaggle_result = requests.get(kaggle_salary)\n",
    "print(kaggle_result.status_code)\n",
    "if kaggle_result.status_code != 200:\n",
    "    print(\"Something went wrong:\", kaggle_result.status_code, kaggle_result.reason)"
   ]
  },
  {
   "cell_type": "markdown",
   "id": "9ce1656c-0ea1-4809-874b-476aa3dfc07c",
   "metadata": {},
   "source": [
    "We converted each `GET` request with the requests library to a text string using .text and saved the converted outputs into new variables. We used print statements to ensure that we did this step properly."
   ]
  },
  {
   "cell_type": "code",
   "execution_count": 4,
   "id": "5a085999-5ed3-449e-96fe-adda9880bf9b",
   "metadata": {},
   "outputs": [
    {
     "name": "stdout",
     "output_type": "stream",
     "text": [
      "<class 'str'>\n",
      "<class 'str'>\n",
      "<class 'str'>\n",
      "<class 'str'>\n"
     ]
    }
   ],
   "source": [
    "stats_text = stats_result.text\n",
    "print(type(stats_text))\n",
    "\n",
    "salaries_text = salaries_result.text\n",
    "print(type(salaries_text))\n",
    "\n",
    "stat_leaders_text = stat_leaders_result.text\n",
    "print(type(stat_leaders_text))\n",
    "\n",
    "kaggle_text = kaggle_result.text\n",
    "print(type(kaggle_text))"
   ]
  },
  {
   "cell_type": "markdown",
   "id": "e981cf5f-4d19-4475-ad2d-25e40bb3c875",
   "metadata": {},
   "source": [
    "We converted each HTML text string to a searchable tree of tags using `BeautifulSoup`."
   ]
  },
  {
   "cell_type": "code",
   "execution_count": 25,
   "id": "ec37d193-401c-418f-8a9f-e4cbd78cbc9b",
   "metadata": {},
   "outputs": [],
   "source": [
    "page_one = BeautifulSoup(stats_text, \"html.parser\")\n",
    "page_two = BeautifulSoup(salaries_text, \"html.parser\")\n",
    "page_three = BeautifulSoup(stat_leaders_text, \"html.parser\")\n",
    "page_four = BeautifulSoup(kaggle_text, \"html.parser\")"
   ]
  },
  {
   "cell_type": "code",
   "execution_count": 40,
   "id": "0e471b12-23f0-4703-ae05-ef62c1859e34",
   "metadata": {},
   "outputs": [
    {
     "name": "stdout",
     "output_type": "stream",
     "text": [
      "\n",
      "\n",
      "\t\t\t\t\t\t1.\n",
      "\t\t\t\t\t\n",
      "\n",
      "\n",
      "\t\t\t\t\t\t\t\tStephen Curry\t\t\t\t\t\t\t\n",
      "\n",
      "\n",
      "\t\t\t\t\t\t\t$55,761,217\t\t\t\t\t\t\n",
      "\n",
      "\t\t\t\t\t\t\t$59,606,817\t\t\t\t\t\t\n",
      "\n",
      "\t\t\t\t\t\t\t$62,587,158\t\t\t\t\t\t\n",
      "\n",
      "\t\t\t\t\t\t\t$0\t\t\t\t\t\t\n",
      "\n",
      "\t\t\t\t\t\t\t$0\t\t\t\t\t\t\n",
      "\n",
      "\t\t\t\t\t\t\t$0\t\t\t\t\t\t\n",
      "\n",
      "[]\n"
     ]
    }
   ],
   "source": [
    "salaries_info = page_two.find(\"tbody\").find_all(\"tr\")\n",
    "print(salaries_info[0].text)\n",
    "\n",
    "#for salary in salaries_info:\n",
    "   #print(salary.text.strip()[:5])\n",
    "\n",
    "leaders_info = page_three.find_all(\"tr\")\n",
    "print(leaders_info)"
   ]
  },
  {
   "cell_type": "markdown",
   "id": "70159b32-c1a5-482b-b971-23a9349eb1ed",
   "metadata": {},
   "source": [
    "## Data Description"
   ]
  },
  {
   "cell_type": "markdown",
   "id": "5d76ee27-5649-4adc-8a72-478b600a5e0f",
   "metadata": {},
   "source": [
    "We plan on creating two separate data frames that we will join into one data frame so that we can perform data analysis. Our first data frame will contain data on about 40 NBA players that were active from the 2014-2015 season to the 2023-2024 season. This data set will have NBA performance metrics (columns) for each player (rows) over the last 10 seasons. Our second data frame will contain data on the salaries/contracts of the same 40 NBA players over the same time period. This data set will have the season salaries/earnings (columns) of each player (rows) over the last 10 seasons. These data sets were created so that we could more efficiently analyze the impact of performance metrics and player salaries. \n",
    "\n",
    "It is unclear if anyone specifically funded our datasets of NBA and HoopsHype. HoopsHype was founded by Jorge Sierra and was eventually acquired by the USA Sports Media Group in 2012. The NBA on the other hand does not have a primary owner/ sponsor, so it is unclear who funded the creation of the NBA dataset. However, given the revenue that the NBA makes, it wouldn't be surprising if they funded their own data collection. Google owns Kaggle which likely implies that Kaggle was funded by Google, both being reliable companies. It seems that all of our sources are reliable. \n",
    "\n",
    "The websites that we collected data from are all from public domains. Since the performance statistics of NBA players can be recorded by anyone that keeps close track of the sport, there is not much in terms of private data or information when documenting player stats. The same can be said about player salaries, which are always publicly available. However, the referenced dataset from one of the websites, Kaggle, utilizes submitted data from other data analysts, which could be formatted however the original analyst wanted. This means we would be using already processed data, which could be missing information.\n",
    "\n",
    "Web scraping will be used to extract data from the three public websites (BR NBA Data , ESPN Player Salaries , NBA Leaders). Additionally, we will be using formatted data from an existing dataset (Kaggle Player Performance and Salaries). We will use these data to create two new datasets. One dataset selects 40 players with their stats per year from the beginning of the 2014-2015 season to the end of the 2023-2024 season. The other dataset contains those same players’ salaries over the same timeframe. We will use these two dataframes to further compare the two factors, and point out any trends and make predictions.\n",
    "\n",
    "NBA officials and ESPN analysts collected the data for their future reference and comparison.  All NBA players are very much aware that their data is collected after every game.  The players can utilize the data to help improve their abilities and study their performances."
   ]
  },
  {
   "cell_type": "markdown",
   "id": "18c820a3-e9f7-477f-b6e3-a4fe87fd7b57",
   "metadata": {},
   "source": [
    "## Data Limitations"
   ]
  },
  {
   "cell_type": "markdown",
   "id": "eeb33382-58a6-4db4-9a4f-c2668e7011ed",
   "metadata": {},
   "source": [
    "A potential data limitation includes the effect of inflation on a player’s salary when comparing performance progression between seasons. When analyzing a player's salary from previous seasons and comparing it to their current salary, not taking into account inflation would fail to provide an accurate representation of how much a players salary actually increased or decreased based on performance throughout the seasons. Since inflation changes the value of how much their salary is worth, it would not provide an accurate representation of any correlation between the two. To combat this, we would have to normalize the given data to achieve standardization.\n",
    "\n",
    "Another limitation to consider is team salary caps. NBA revenue has increased through each decade so NBA teams have increasingly larger salary caps to use on contracts. Since salary caps have steadily increased, teams are able to write larger contracts for their players, meaning that player salaries increase naturally. This may be a limitation in our data because if we don’t take into account salary cap increase, we may see an average salary increase for all players, even if they played poorly. In these cases, a player’s performance and their salary would have a positive correlation, but it would be a result of team salary cap increase rather than better performance. \n",
    "\n",
    "Individual player salary caps have also changed (Max contracts have gotten dramatically bigger as the years go on). The salary cap from the 2014-2015 season, which was \\\\$63.065 million,  pales in comparison to the salary cap in the 2024- 2025 season, which is \\\\$140.588  million. This is a data limitation because it complicates our multivariable prediction analysis. Chris Paul, a future Hall-of-Famer, earned \\\\$21.47 million dollars in his 2015 NBA season, while Mikal Bridges earned \\\\$23.3 million in the 24-25 season. Chris Paul, a significantly better and higher ranked player earned less than Mikal Bridges, someone who would have probably only earned \\\\$10 million 10 years before. Given the inflation and change in NBA salary spending, it makes it tricky to create comparable graphs and prediction charts with the data. \n",
    "\n",
    "Another limitation is if a player got injured and missed a season. This would result in missing data in the time series. When we want to determine how a player’s performance and salary changes season to season, missing data from the time series will lead to inaccurate results when analyzing potential trends in the data. Making predictions based on the given information will also be negatively impacted. \n",
    "\n",
    "Failing to recognize the harms of the data could potentially have a significant impact on people. One area affected by these harms could be sports analytics. If a sports team hires a data analyst to review the data about players progression to determine what the salary should be for that season but they fail to take into account inflation, the analyst may provide the wrong salary recommendation for a player. This would result in the franchise paying a player a sum of money that may generate a financial burden to the program that outweighs the benefits the player provides to the team. ESPN sports commentators and analysts, who often discuss future contract agreements, may be mislead by these data limitations. \n",
    "\n",
    "People who participate in sports betting may also be negatively impacted by the limitation of players missing a season due to injury. If someone wants to bet on how a player performs in a game or season based on how well they've historically performed, a gap in the time data series would skew the results of the player’s performance and provide misleading information to the better. This would result in a person potentially losing money from faulty data."
   ]
  },
  {
   "cell_type": "markdown",
   "id": "845d39e1-086b-4068-b9b7-03bd72db8428",
   "metadata": {},
   "source": [
    "## Exploratory Data Analysis"
   ]
  },
  {
   "cell_type": "markdown",
   "id": "fb2e60b0-7692-480c-8cef-c49bdc9deacf",
   "metadata": {},
   "source": [
    "Since we haven’t completed our web scraping for our data sets yet, we will do an exploratory data analysis later that includes basic summary statistics and a plot that visualizes our two data sets. "
   ]
  },
  {
   "cell_type": "markdown",
   "id": "cfa16c9e-d740-4139-abe7-d5d64a8231af",
   "metadata": {},
   "source": [
    "## Questions for Reviewers"
   ]
  },
  {
   "cell_type": "markdown",
   "id": "7ad0c826-ae59-495e-9467-0cd16fd1b832",
   "metadata": {},
   "source": [
    "1. When we attempt to scrape data from our NBA Leaders source (https://www.nba.com/stats/leaders?Season=2023-24&SeasonType=Regular+Season) by using the <tr> tag, we get None or an empty list in return. However, we can see the tr tag when we inspect the website. How do we fix it/what are we doing wrong?\n",
    "2. How do I bypass a 403 error? Our origial source for Official NBA Player salaries: (https://www.espn.com/nba/salaries) returns a 403 error when we run a GET request. Does this mean we have to find another data source? (We have replaced this source with data from HoopsHype [https://hoopshype.com/salaries/players/])\n",
    "3. If our source has drop-down menus for different seasons, how should we go about extracting data from each one to create one dataframe with information? \n",
    "4. How should we format our final data set? We will have different NBA statistical categories (PPG, APG, RPG, etc.) that span over 10 years for each player. What should our rows and columns look like and how do we best organize them? Is there a limit on how many columns we can have?\n",
    "5. What does it mean by raw source data and how do we know if it is applicable to us?\n",
    "6. How should we format our data? Since we are working with data that varies by season/year, what would be the best way to organize all of our data? Should we change our idea to make it easier to format data?"
   ]
  }
 ],
 "metadata": {
  "kernelspec": {
   "display_name": "Python 3 (ipykernel)",
   "language": "python",
   "name": "python3"
  },
  "language_info": {
   "codemirror_mode": {
    "name": "ipython",
    "version": 3
   },
   "file_extension": ".py",
   "mimetype": "text/x-python",
   "name": "python",
   "nbconvert_exporter": "python",
   "pygments_lexer": "ipython3",
   "version": "3.11.8"
  }
 },
 "nbformat": 4,
 "nbformat_minor": 5
}
