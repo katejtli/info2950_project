{
 "cells": [
  {
   "cell_type": "markdown",
   "id": "35d5ba80-b05b-40b6-8cbc-c4907b04fde4",
   "metadata": {},
   "source": [
    "# Project Phase 2"
   ]
  },
  {
   "cell_type": "markdown",
   "id": "440253df-9c63-4154-ad09-0f211dd15080",
   "metadata": {},
   "source": [
    "Team Members: Kate Li (kl739), Audrey Holden (aeh252), Katherine Yee (ky424), Julian Correa (jfc297)"
   ]
  },
  {
   "cell_type": "markdown",
   "id": "616accd8-3ee2-4a12-90cb-0891a625ed3c",
   "metadata": {},
   "source": [
    "## Research Question"
   ]
  },
  {
   "cell_type": "markdown",
   "id": "b215e47b-04af-4a8d-8e6a-ca1ec018f5c2",
   "metadata": {},
   "source": [
    "Question: What factors predict an NBA player’s salary? Is there a relationship between an NBA player's performance and an increase in their salary? \n",
    "\n",
    "In this assignment we will be analyzing how the salaries of NBA players change depending on many different statistical variables, including points, assists, rebounds, blocks, steals, etc, per game. We will train a multivariable regression to see if we can predict an NBA player's salary depending on their previous season(s) performance statistics. Our model will hopefully help sports analysts better predict a contract that an NBA player may receive. It may also provide NBA team managers more insight into team spending and budgeting. \n",
    "\n",
    "We will also see if there is a positive or negative correlation between performance and salary. \n",
    "We also plan on analyzing different NBA player positions and examining the magnitude of salary changes depending on their respective stats. For example, a center having an increase in blocks per game may improve their salary, but a comparative increase in points per game by a shooting guard would most likely result in a dramatic increase in their salary given that offensive roles are more valuable."
   ]
  },
  {
   "cell_type": "markdown",
   "id": "932f57f0-46e0-4659-bb18-86299af89eb2",
   "metadata": {},
   "source": [
    "## Data Collection and Cleaning"
   ]
  },
  {
   "cell_type": "code",
   "execution_count": 1,
   "id": "35bb4c83-9572-462a-9f76-91369bdc6802",
   "metadata": {},
   "outputs": [],
   "source": [
    "import numpy as np\n",
    "import pandas as pd\n",
    "import matplotlib.pyplot as plt\n",
    "import seaborn as sns\n",
    "import datetime\n",
    "from sklearn.linear_model import LinearRegression, LogisticRegression\n",
    "import duckdb\n",
    "import requests\n",
    "from bs4 import BeautifulSoup\n",
    "import time"
   ]
  },
  {
   "cell_type": "markdown",
   "id": "ef367398-02c8-4734-9aae-f2da31e9672e",
   "metadata": {},
   "source": [
    "We read the dataset (csv) files and stored them in variables. `salaries` has data on NBA player salaries by year from 1990-2017. `stats` has data on NBA player performance statistics by year from 1950-2017."
   ]
  },
  {
   "cell_type": "code",
   "execution_count": 2,
   "id": "a8627ed7-f49b-4d4a-ab01-0d478adef5f1",
   "metadata": {},
   "outputs": [],
   "source": [
    "salaries = pd.read_csv(\"salaries.csv\")\n",
    "stats = pd.read_csv(\"stats.csv\")"
   ]
  },
  {
   "cell_type": "markdown",
   "id": "1dcc5e15-07f9-4a3a-9dc3-6066fc0b9b15",
   "metadata": {},
   "source": [
    "### Data Cleaning for salaries_df"
   ]
  },
  {
   "cell_type": "markdown",
   "id": "37ba8023-0641-409a-82f6-76ea22550fd5",
   "metadata": {},
   "source": [
    "We created a pandas dataframe using the `salaries` csv file and assigned it to the variable `salaries_df`. We then dropped miscellaneous columns such as `Register Value`, `Season End`, and `Full Team Name`. "
   ]
  },
  {
   "cell_type": "code",
   "execution_count": 3,
   "id": "0863e825-9b01-4994-b395-2231c04de8a0",
   "metadata": {},
   "outputs": [
    {
     "name": "stdout",
     "output_type": "stream",
     "text": [
      "              Player Name     Salary in $   Season Start Team\n",
      "0              A.C. Green   $1,750,000.00           1990  LAL\n",
      "1              A.C. Green   $1,750,000.00           1991  LAL\n",
      "2              A.C. Green   $1,750,000.00           1992  LAL\n",
      "3              A.C. Green   $1,885,000.00           1993  PHO\n",
      "4              A.C. Green   $6,472,600.00           1994  PHO\n",
      "...                   ...              ...           ...  ...\n",
      "11832  Zydrunas Ilgauskas   $8,740,000.00           2005  CLE\n",
      "11833  Zydrunas Ilgauskas   $9,442,697.00           2006  CLE\n",
      "11834  Zydrunas Ilgauskas  $10,142,156.00           2007  CLE\n",
      "11835  Zydrunas Ilgauskas  $10,841,615.00           2008  CLE\n",
      "11836  Zydrunas Ilgauskas  $11,541,074.00           2009  WAS\n",
      "\n",
      "[11837 rows x 4 columns]\n"
     ]
    }
   ],
   "source": [
    "salaries_df = pd.DataFrame(salaries)\n",
    "salaries_df = salaries_df.drop(['Register Value', 'Season End', 'Full Team Name'], axis = 1)\n",
    "print(salaries_df)"
   ]
  },
  {
   "cell_type": "markdown",
   "id": "83f2c20f-5f9f-4eed-9a88-190ef7fb91fe",
   "metadata": {},
   "source": [
    "Here, we renamed the column `Player Name` to just `Player` and the `Season Start` column to just `Season`. We then selected only the players that have salaries listed between the years 2010 and 2017 (inclusive). We also dropped rows where the player was listed twice in one year but with different teams, meaning we disregard mid-season trading."
   ]
  },
  {
   "cell_type": "code",
   "execution_count": 9,
   "id": "0a47c3c8-d66a-4ee9-ad32-51c5ce80efc4",
   "metadata": {},
   "outputs": [
    {
     "name": "stdout",
     "output_type": "stream",
     "text": [
      "              Player          Salary  Season Team\n",
      "19      A.J. Hammons    $650,000.00     2016  DAL\n",
      "20      A.J. Hammons  $1,312,611.00     2017  MIA\n",
      "22        A.J. Price    $762,195.00     2010  IND\n",
      "23        A.J. Price    $854,389.00     2011  IND\n",
      "24        A.J. Price    $885,120.00     2012  WAS\n",
      "...              ...             ...     ...  ...\n",
      "11805  Zaza Pachulia  $2,898,000.00     2016  GSW\n",
      "11806  Zaza Pachulia  $3,477,600.00     2017  GSW\n",
      "11817        Zhou Qi    $815,615.00     2017  HOU\n",
      "11818   Zoran Dragic  $1,962,103.00     2014  MIA\n",
      "11819   Zoran Dragic  $2,050,397.00     2015  BOS\n",
      "\n",
      "[3710 rows x 4 columns]\n"
     ]
    }
   ],
   "source": [
    "salaries_df = salaries_df.rename(columns = {'Player Name': 'Player', ' Salary in $ ': 'Salary', 'Season Start': 'Season'})\n",
    "\n",
    "salaries_df = salaries_df[(salaries_df['Season'] >= 2010) & (salaries_df['Season'] <= 2017)]\n",
    "\n",
    "salaries_df = salaries_df.drop_duplicates(subset = ['Player', 'Season'], keep = 'first')\n",
    "\n",
    "print(salaries_df)"
   ]
  },
  {
   "cell_type": "markdown",
   "id": "cdec5508-1248-43f2-a717-e0d9c777e9f8",
   "metadata": {},
   "source": [
    "We wanted to ensure that we only selected the players that were active during the entire time frame that we selected (2010 to 2017 seasons). In order to do so, we counted the number of times each player was listed within `salaries_df` which had already been filtered to have data only within this time frame. \n",
    "\n",
    "We converted this count into a dataframe that included the player and the number of times they were counted (which was always 8). Performing an inner join on the player, we were able to modify the original `salaries_df` so that it included all of the salaries for each player from 2010 to 2017 inclusive. This dataframe now has only players that were active from 2010 to 2017 (inclusive) and includes player name, the season, salaries, and team. "
   ]
  },
  {
   "cell_type": "code",
   "execution_count": 20,
   "id": "600bcc6e-5586-48ed-a9ac-6d8407f00e53",
   "metadata": {},
   "outputs": [
    {
     "name": "stdout",
     "output_type": "stream",
     "text": [
      "          Player          Salary  Season Team\n",
      "0     Aaron Gray  $1,028,840.00     2010  NOH\n",
      "1     Aaron Gray  $2,500,000.00     2011  TOR\n",
      "2     Aaron Gray  $2,575,000.00     2012  TOR\n",
      "3     Aaron Gray  $2,690,875.00     2013  TOR\n",
      "4     Aaron Gray  $1,227,985.00     2014  DET\n",
      "..           ...             ...     ...  ...\n",
      "827  Omri Casspi    $947,907.00     2013  HOU\n",
      "828  Omri Casspi  $1,063,384.00     2014  SAC\n",
      "829  Omri Casspi  $3,000,000.00     2015  SAC\n",
      "830  Omri Casspi  $3,000,000.00     2016  NOH\n",
      "831  Omri Casspi  $2,106,470.00     2017  GSW\n",
      "\n",
      "[832 rows x 4 columns]\n",
      "       Player          Salary  Season Team\n",
      "0  Aaron Gray  $1,028,840.00     2010  NOH\n",
      "1  Aaron Gray  $2,500,000.00     2011  TOR\n",
      "2  Aaron Gray  $2,575,000.00     2012  TOR\n",
      "3  Aaron Gray  $2,690,875.00     2013  TOR\n",
      "4  Aaron Gray  $1,227,985.00     2014  DET\n",
      "5  Aaron Gray    $452,059.00     2015  DET\n",
      "6  Aaron Gray    $452,059.00     2016  DET\n",
      "7  Aaron Gray    $452,059.00     2017  DET\n"
     ]
    }
   ],
   "source": [
    "for i in salaries_df:\n",
    "    player_count = salaries_df['Player'].value_counts()\n",
    "    select = player_count[player_count == 8]\n",
    "\n",
    "filter_players_df = pd.DataFrame(select)\n",
    "filter_players_df = filter_players_df.reset_index()\n",
    "\n",
    "salaries_df = duckdb.sql(\"\"\"SELECT salaries_df.Player, salaries_df.Salary, salaries_df.Season, salaries_df.Team\n",
    "                             FROM salaries_df \n",
    "                             INNER JOIN filter_players_df\n",
    "                             ON salaries_df.Player = filter_players_df.Player\"\"\").df()\n",
    "print(salaries_df)\n",
    "print(salaries_df.iloc[:8, :])"
   ]
  },
  {
   "cell_type": "markdown",
   "id": "bfd4449a-4575-4bc2-9707-e6f3d3d7d916",
   "metadata": {},
   "source": [
    "### Data Cleaning for stats_df"
   ]
  },
  {
   "cell_type": "markdown",
   "id": "fdf490f0-8f8d-4ba2-bf62-bcd3cd5780ce",
   "metadata": {},
   "source": [
    "In this cell, we are creating a data frame for the stats of each player. We are only adding the relevant columns from the csv file which include Year, Player, Pos, Tm, G, ORB, DRB, AST, STL, BLK, TOV, PTS."
   ]
  },
  {
   "cell_type": "code",
   "execution_count": 21,
   "id": "68103f7c-c0ef-47ef-b3a5-61c3b70a13d1",
   "metadata": {},
   "outputs": [
    {
     "name": "stdout",
     "output_type": "stream",
     "text": [
      "         Year             Player  Pos   Tm     G    ORB    DRB    AST   STL  \\\n",
      "0      1950.0    Curly Armstrong  G-F  FTW  63.0    NaN    NaN  176.0   NaN   \n",
      "1      1950.0       Cliff Barker   SG  INO  49.0    NaN    NaN  109.0   NaN   \n",
      "2      1950.0      Leo Barnhorst   SF  CHS  67.0    NaN    NaN  140.0   NaN   \n",
      "3      1950.0         Ed Bartels    F  TOT  15.0    NaN    NaN   20.0   NaN   \n",
      "4      1950.0         Ed Bartels    F  DNN  13.0    NaN    NaN   20.0   NaN   \n",
      "...       ...                ...  ...  ...   ...    ...    ...    ...   ...   \n",
      "24686  2017.0        Cody Zeller   PF  CHO  62.0  135.0  270.0   99.0  62.0   \n",
      "24687  2017.0       Tyler Zeller    C  BOS  51.0   43.0   81.0   42.0   7.0   \n",
      "24688  2017.0  Stephen Zimmerman    C  ORL  19.0   11.0   24.0    4.0   2.0   \n",
      "24689  2017.0        Paul Zipser   SF  CHI  44.0   15.0  110.0   36.0  15.0   \n",
      "24690  2017.0        Ivica Zubac    C  LAL  38.0   41.0  118.0   30.0  14.0   \n",
      "\n",
      "        BLK   TOV    PTS  \n",
      "0       NaN   NaN  458.0  \n",
      "1       NaN   NaN  279.0  \n",
      "2       NaN   NaN  438.0  \n",
      "3       NaN   NaN   63.0  \n",
      "4       NaN   NaN   59.0  \n",
      "...     ...   ...    ...  \n",
      "24686  58.0  65.0  639.0  \n",
      "24687  21.0  20.0  178.0  \n",
      "24688   5.0   3.0   23.0  \n",
      "24689  16.0  40.0  240.0  \n",
      "24690  33.0  30.0  284.0  \n",
      "\n",
      "[24691 rows x 12 columns]\n"
     ]
    }
   ],
   "source": [
    "stats_df = pd.DataFrame(stats)\n",
    "stats_df = stats_df[['Year', 'Player', 'Pos', 'Tm', 'G', 'ORB', 'DRB','AST','STL','BLK','TOV','PTS']]\n",
    "print(stats_df)"
   ]
  },
  {
   "cell_type": "markdown",
   "id": "d3a73ab1-b747-42f2-8437-914de06f35f5",
   "metadata": {},
   "source": [
    "We only want to consider the stats from the 2010-2017 seasons, so we narrowed down the stats_df to include only include rows from those years. We are also dropping the duplicate players from the columns."
   ]
  },
  {
   "cell_type": "code",
   "execution_count": 22,
   "id": "a7d73364-09a2-4d88-9296-7a1e6426a5e0",
   "metadata": {},
   "outputs": [
    {
     "name": "stdout",
     "output_type": "stream",
     "text": [
      "       Season             Player Pos Team     G    ORB    DRB    AST   STL  \\\n",
      "19922  2010.0      Arron Afflalo  SG  DEN  82.0   59.0  193.0  138.0  46.0   \n",
      "19923  2010.0      Alexis Ajinca   C  CHA   6.0    1.0    3.0    0.0   1.0   \n",
      "19924  2010.0  LaMarcus Aldridge  PF  POR  78.0  192.0  435.0  160.0  67.0   \n",
      "19925  2010.0      Joe Alexander  SF  CHI   8.0    2.0    3.0    2.0   1.0   \n",
      "19926  2010.0        Malik Allen  PF  DEN  51.0   36.0   46.0   16.0  11.0   \n",
      "...       ...                ...  ..  ...   ...    ...    ...    ...   ...   \n",
      "24686  2017.0        Cody Zeller  PF  CHO  62.0  135.0  270.0   99.0  62.0   \n",
      "24687  2017.0       Tyler Zeller   C  BOS  51.0   43.0   81.0   42.0   7.0   \n",
      "24688  2017.0  Stephen Zimmerman   C  ORL  19.0   11.0   24.0    4.0   2.0   \n",
      "24689  2017.0        Paul Zipser  SF  CHI  44.0   15.0  110.0   36.0  15.0   \n",
      "24690  2017.0        Ivica Zubac   C  LAL  38.0   41.0  118.0   30.0  14.0   \n",
      "\n",
      "        BLK    TOV     PTS  \n",
      "19922  30.0   74.0   724.0  \n",
      "19923   1.0    2.0    10.0  \n",
      "19924  48.0  104.0  1393.0  \n",
      "19925   1.0    0.0     4.0  \n",
      "19926   5.0   22.0   105.0  \n",
      "...     ...    ...     ...  \n",
      "24686  58.0   65.0   639.0  \n",
      "24687  21.0   20.0   178.0  \n",
      "24688   5.0    3.0    23.0  \n",
      "24689  16.0   40.0   240.0  \n",
      "24690  33.0   30.0   284.0  \n",
      "\n",
      "[3775 rows x 12 columns]\n"
     ]
    }
   ],
   "source": [
    "stats_df = stats_df.rename(columns={'Year': 'Season', 'Tm': 'Team'})\n",
    "stats_df = stats_df[(stats_df['Season'] >= 2010) & (stats_df['Season'] <= 2017)]\n",
    "stats_df = stats_df.drop_duplicates(subset= ['Player','Season'], keep='first')\n",
    "print(stats_df)"
   ]
  },
  {
   "cell_type": "markdown",
   "id": "fa7b0e95-0cd2-4a10-afbf-e89df80ae614",
   "metadata": {},
   "source": [
    "In this section, we want to filter out the players who did not compete in all 8 seasons. We are using a for-loop to do so."
   ]
  },
  {
   "cell_type": "code",
   "execution_count": 23,
   "id": "5184a247-97b0-4d1a-8c48-c98d571071e4",
   "metadata": {},
   "outputs": [
    {
     "name": "stdout",
     "output_type": "stream",
     "text": [
      "              Player  Season Pos Team     G    ORB    DRB    AST    STL  \\\n",
      "0      Arron Afflalo  2010.0  SG  DEN  82.0   59.0  193.0  138.0   46.0   \n",
      "1  LaMarcus Aldridge  2010.0  PF  POR  78.0  192.0  435.0  160.0   67.0   \n",
      "2         Tony Allen  2010.0  SG  BOS  54.0   52.0   93.0   72.0   59.0   \n",
      "3     Chris Andersen  2010.0  PF  DEN  76.0  147.0  336.0   33.0   42.0   \n",
      "4      Ryan Anderson  2010.0  PF  ORL  63.0   70.0  132.0   37.0   25.0   \n",
      "5    Carmelo Anthony  2010.0  SF  DEN  69.0  152.0  302.0  222.0   88.0   \n",
      "6       Joel Anthony  2010.0   C  MIA  80.0  123.0  126.0   12.0   20.0   \n",
      "7       Trevor Ariza  2010.0  SF  HOU  72.0   78.0  325.0  276.0  126.0   \n",
      "\n",
      "     BLK    TOV     PTS  \n",
      "0   30.0   74.0   724.0  \n",
      "1   48.0  104.0  1393.0  \n",
      "2   19.0   66.0   330.0  \n",
      "3  143.0   59.0   448.0  \n",
      "4   14.0   56.0   487.0  \n",
      "5   30.0  209.0  1943.0  \n",
      "6  109.0   45.0   218.0  \n",
      "7   40.0  161.0  1072.0  \n",
      "            Player  Season Pos Team     G   ORB    DRB    AST   STL   BLK  \\\n",
      "0    Arron Afflalo  2010.0  SG  DEN  82.0  59.0  193.0  138.0  46.0  30.0   \n",
      "127  Arron Afflalo  2011.0  SG  DEN  69.0  45.0  206.0  168.0  34.0  31.0   \n",
      "254  Arron Afflalo  2012.0  SG  DEN  62.0  40.0  157.0  149.0  36.0  13.0   \n",
      "381  Arron Afflalo  2013.0  SF  ORL  64.0  29.0  210.0  206.0  40.0  11.0   \n",
      "508  Arron Afflalo  2014.0  SG  ORL  73.0  32.0  230.0  248.0  35.0   3.0   \n",
      "635  Arron Afflalo  2015.0  SG  TOT  78.0  27.0  220.0  129.0  41.0   7.0   \n",
      "762  Arron Afflalo  2016.0  SG  NYK  71.0  23.0  243.0  144.0  25.0  10.0   \n",
      "889  Arron Afflalo  2017.0  SG  SAC  61.0   9.0  116.0   78.0  21.0   7.0   \n",
      "\n",
      "       TOV     PTS  \n",
      "0     74.0   724.0  \n",
      "127   71.0   867.0  \n",
      "254   85.0   943.0  \n",
      "381  138.0  1057.0  \n",
      "508  146.0  1330.0  \n",
      "635  116.0  1035.0  \n",
      "762   82.0   909.0  \n",
      "889   42.0   515.0  \n"
     ]
    }
   ],
   "source": [
    "season_player = stats_df[['Season','Player']]\n",
    "for i in season_player:\n",
    "    count = season_player[i].value_counts()\n",
    "    players = count[count == 8]\n",
    "\n",
    "filter_players = pd.DataFrame(players)\n",
    "filter_players = filter_players.reset_index()\n",
    "\n",
    "stats_df = duckdb.sql(\"\"\"SELECT filter_players.Player, Season, Pos, Team, G, ORB, DRB, AST, STL, BLK, TOV, PTS \\\n",
    "                                FROM filter_players \\\n",
    "                                INNER JOIN stats_df \\\n",
    "                                ON filter_players.Player = stats_df.Player\"\"\").df()\n",
    "print(stats_df.iloc[:8,:])\n",
    "print(stats_df[stats_df['Player'] == 'Arron Afflalo'])"
   ]
  },
  {
   "cell_type": "markdown",
   "id": "f4c37114-fb0b-43b1-9b1c-628ad520427a",
   "metadata": {},
   "source": [
    "We are joining our two dataframes. (salaries_df and stats_df) so that all of our data is in one dataframe."
   ]
  },
  {
   "cell_type": "code",
   "execution_count": 24,
   "id": "b4495de6-344e-4ad5-b499-3cecdf496aca",
   "metadata": {},
   "outputs": [
    {
     "name": "stdout",
     "output_type": "stream",
     "text": [
      "                 Player  Season Pos Team     G    ORB    DRB    AST   STL  \\\n",
      "0         Arron Afflalo  2010.0  SG  DEN  82.0   59.0  193.0  138.0  46.0   \n",
      "1     LaMarcus Aldridge  2010.0  PF  POR  78.0  192.0  435.0  160.0  67.0   \n",
      "2            Tony Allen  2010.0  SG  BOS  54.0   52.0   93.0   72.0  59.0   \n",
      "3         Ryan Anderson  2010.0  PF  ORL  63.0   70.0  132.0   37.0  25.0   \n",
      "4       Carmelo Anthony  2010.0  SF  DEN  69.0  152.0  302.0  222.0  88.0   \n",
      "...                 ...     ...  ..  ...   ...    ...    ...    ...   ...   \n",
      "4795     Jamal Crawford  2016.0  SG  LAC  79.0   20.0  125.0  183.0  52.0   \n",
      "4796      Zaza Pachulia  2016.0   C  DAL  76.0  249.0  469.0  128.0  64.0   \n",
      "4797        Omri Casspi  2017.0  SF  TOT  36.0   27.0   85.0   37.0  23.0   \n",
      "4798     Jamal Crawford  2017.0  SG  LAC  82.0   17.0  112.0  213.0  59.0   \n",
      "4799      Zaza Pachulia  2017.0   C  GSW  70.0  140.0  270.0  132.0  59.0   \n",
      "\n",
      "       BLK    TOV     PTS           Salary  \n",
      "0     30.0   74.0   724.0   $2,328,652.00   \n",
      "1     48.0  104.0  1393.0  $21,461,010.00   \n",
      "2     19.0   66.0   330.0   $2,116,955.00   \n",
      "3     14.0   56.0   487.0  $19,578,455.00   \n",
      "4     30.0  209.0  1943.0  $26,243,760.00   \n",
      "...    ...    ...     ...              ...  \n",
      "4795  12.0  113.0  1120.0  $10,800,000.00   \n",
      "4796  22.0  119.0   650.0   $4,251,250.00   \n",
      "4797   3.0   29.0   186.0   $1,254,480.00   \n",
      "4798  14.0  134.0  1008.0  $10,800,000.00   \n",
      "4799  33.0   88.0   426.0   $4,251,250.00   \n",
      "\n",
      "[4800 rows x 13 columns]\n",
      "             Player  Season Pos Team     G   ORB    DRB    AST   STL   BLK  \\\n",
      "0     Arron Afflalo  2010.0  SG  DEN  82.0  59.0  193.0  138.0  46.0  30.0   \n",
      "72    Arron Afflalo  2011.0  SG  DEN  69.0  45.0  206.0  168.0  34.0  31.0   \n",
      "144   Arron Afflalo  2012.0  SG  DEN  62.0  40.0  157.0  149.0  36.0  13.0   \n",
      "216   Arron Afflalo  2013.0  SF  ORL  64.0  29.0  210.0  206.0  40.0  11.0   \n",
      "288   Arron Afflalo  2014.0  SG  ORL  73.0  32.0  230.0  248.0  35.0   3.0   \n",
      "...             ...     ...  ..  ...   ...   ...    ...    ...   ...   ...   \n",
      "4416  Arron Afflalo  2013.0  SF  ORL  64.0  29.0  210.0  206.0  40.0  11.0   \n",
      "4488  Arron Afflalo  2014.0  SG  ORL  73.0  32.0  230.0  248.0  35.0   3.0   \n",
      "4560  Arron Afflalo  2015.0  SG  TOT  78.0  27.0  220.0  129.0  41.0   7.0   \n",
      "4632  Arron Afflalo  2016.0  SG  NYK  71.0  23.0  243.0  144.0  25.0  10.0   \n",
      "4704  Arron Afflalo  2017.0  SG  SAC  61.0   9.0  116.0   78.0  21.0   7.0   \n",
      "\n",
      "        TOV     PTS          Salary  \n",
      "0      74.0   724.0  $2,328,652.00   \n",
      "72     71.0   867.0  $2,328,652.00   \n",
      "144    85.0   943.0  $2,328,652.00   \n",
      "216   138.0  1057.0  $2,328,652.00   \n",
      "288   146.0  1330.0  $2,328,652.00   \n",
      "...     ...     ...             ...  \n",
      "4416  138.0  1057.0  $1,959,577.00   \n",
      "4488  146.0  1330.0  $1,959,577.00   \n",
      "4560  116.0  1035.0  $1,959,577.00   \n",
      "4632   82.0   909.0  $1,959,577.00   \n",
      "4704   42.0   515.0  $1,959,577.00   \n",
      "\n",
      "[64 rows x 13 columns]\n"
     ]
    }
   ],
   "source": [
    "df = duckdb.sql(\"\"\"SELECT stats_df.Player, stats_df.Season, stats_df.Pos, stats_df.Team, \\\n",
    "                            stats_df.G, stats_df.ORB, stats_df.DRB, stats_df.AST, \\\n",
    "                            stats_df.STL, stats_df.BLK, stats_df.TOV, stats_df.PTS, \\\n",
    "                            salaries_df.Salary\n",
    "                    FROM stats_df\n",
    "                    INNER JOIN salaries_df\n",
    "                    ON stats_df.Player = salaries_df.Player\"\"\").df()\n",
    "print(df)\n",
    "print(df[df['Player'] == 'Arron Afflalo'])"
   ]
  },
  {
   "cell_type": "markdown",
   "id": "70159b32-c1a5-482b-b971-23a9349eb1ed",
   "metadata": {},
   "source": [
    "## Data Description"
   ]
  },
  {
   "cell_type": "markdown",
   "id": "5d76ee27-5649-4adc-8a72-478b600a5e0f",
   "metadata": {},
   "source": [
    "We plan on creating two separate data frames that we will join into one data frame so that we can perform data analysis. Our first data frame will contain data on about 40 NBA players that were active from the 2014-2015 season to the 2023-2024 season. This data set will have NBA performance metrics (columns) for each player (rows) over the last 10 seasons. Our second data frame will contain data on the salaries/contracts of the same 40 NBA players over the same time period. This data set will have the season salaries/earnings (columns) of each player (rows) over the last 10 seasons. These data sets were created so that we could more efficiently analyze the impact of performance metrics and player salaries. \n",
    "\n",
    "It is unclear if anyone specifically funded our datasets of NBA and HoopsHype. HoopsHype was founded by Jorge Sierra and was eventually acquired by the USA Sports Media Group in 2012. The NBA on the other hand does not have a primary owner/ sponsor, so it is unclear who funded the creation of the NBA dataset. However, given the revenue that the NBA makes, it wouldn't be surprising if they funded their own data collection. Google owns Kaggle which likely implies that Kaggle was funded by Google, both being reliable companies. It seems that all of our sources are reliable. \n",
    "\n",
    "The websites that we collected data from are all from public domains. Since the performance statistics of NBA players can be recorded by anyone that keeps close track of the sport, there is not much in terms of private data or information when documenting player stats. The same can be said about player salaries, which are always publicly available. However, the referenced dataset from one of the websites, Kaggle, utilizes submitted data from other data analysts, which could be formatted however the original analyst wanted. This means we would be using already processed data, which could be missing information.\n",
    "\n",
    "Web scraping will be used to extract data from the three public websites (BR NBA Data , ESPN Player Salaries , NBA Leaders). Additionally, we will be using formatted data from an existing dataset (Kaggle Player Performance and Salaries). We will use these data to create two new datasets. One dataset selects 40 players with their stats per year from the beginning of the 2014-2015 season to the end of the 2023-2024 season. The other dataset contains those same players’ salaries over the same timeframe. We will use these two dataframes to further compare the two factors, and point out any trends and make predictions.\n",
    "\n",
    "NBA officials and ESPN analysts collected the data for their future reference and comparison.  All NBA players are very much aware that their data is collected after every game.  The players can utilize the data to help improve their abilities and study their performances."
   ]
  },
  {
   "cell_type": "markdown",
   "id": "18c820a3-e9f7-477f-b6e3-a4fe87fd7b57",
   "metadata": {},
   "source": [
    "## Data Limitations"
   ]
  },
  {
   "cell_type": "markdown",
   "id": "eeb33382-58a6-4db4-9a4f-c2668e7011ed",
   "metadata": {},
   "source": [
    "A potential data limitation includes the effect of inflation on a player’s salary when comparing performance progression between seasons. When analyzing a player's salary from previous seasons and comparing it to their current salary, not taking into account inflation would fail to provide an accurate representation of how much a players salary actually increased or decreased based on performance throughout the seasons. Since inflation changes the value of how much their salary is worth, it would not provide an accurate representation of any correlation between the two. To combat this, we would have to normalize the given data to achieve standardization.\n",
    "\n",
    "Another limitation to consider is team salary caps. NBA revenue has increased through each decade so NBA teams have increasingly larger salary caps to use on contracts. Since salary caps have steadily increased, teams are able to write larger contracts for their players, meaning that player salaries increase naturally. This may be a limitation in our data because if we don’t take into account salary cap increase, we may see an average salary increase for all players, even if they played poorly. In these cases, a player’s performance and their salary would have a positive correlation, but it would be a result of team salary cap increase rather than better performance. \n",
    "\n",
    "Individual player salary caps have also changed (Max contracts have gotten dramatically bigger as the years go on). The salary cap from the 2014-2015 season, which was \\\\$63.065 million,  pales in comparison to the salary cap in the 2024- 2025 season, which is \\\\$140.588  million. This is a data limitation because it complicates our multivariable prediction analysis. Chris Paul, a future Hall-of-Famer, earned \\\\$21.47 million dollars in his 2015 NBA season, while Mikal Bridges earned \\\\$23.3 million in the 24-25 season. Chris Paul, a significantly better and higher ranked player earned less than Mikal Bridges, someone who would have probably only earned \\\\$10 million 10 years before. Given the inflation and change in NBA salary spending, it makes it tricky to create comparable graphs and prediction charts with the data. \n",
    "\n",
    "Another limitation is if a player got injured and missed a season. This would result in missing data in the time series. When we want to determine how a player’s performance and salary changes season to season, missing data from the time series will lead to inaccurate results when analyzing potential trends in the data. Making predictions based on the given information will also be negatively impacted. \n",
    "\n",
    "Failing to recognize the harms of the data could potentially have a significant impact on people. One area affected by these harms could be sports analytics. If a sports team hires a data analyst to review the data about players progression to determine what the salary should be for that season but they fail to take into account inflation, the analyst may provide the wrong salary recommendation for a player. This would result in the franchise paying a player a sum of money that may generate a financial burden to the program that outweighs the benefits the player provides to the team. ESPN sports commentators and analysts, who often discuss future contract agreements, may be mislead by these data limitations. \n",
    "\n",
    "People who participate in sports betting may also be negatively impacted by the limitation of players missing a season due to injury. If someone wants to bet on how a player performs in a game or season based on how well they've historically performed, a gap in the time data series would skew the results of the player’s performance and provide misleading information to the better. This would result in a person potentially losing money from faulty data."
   ]
  },
  {
   "cell_type": "markdown",
   "id": "845d39e1-086b-4068-b9b7-03bd72db8428",
   "metadata": {},
   "source": [
    "## Exploratory Data Analysis"
   ]
  },
  {
   "cell_type": "markdown",
   "id": "fb2e60b0-7692-480c-8cef-c49bdc9deacf",
   "metadata": {},
   "source": [
    "Since we haven’t completed our web scraping for our data sets yet, we will do an exploratory data analysis later that includes basic summary statistics and a plot that visualizes our two data sets. "
   ]
  },
  {
   "cell_type": "markdown",
   "id": "cfa16c9e-d740-4139-abe7-d5d64a8231af",
   "metadata": {},
   "source": [
    "## Questions for Reviewers"
   ]
  },
  {
   "cell_type": "markdown",
   "id": "7ad0c826-ae59-495e-9467-0cd16fd1b832",
   "metadata": {},
   "source": [
    "1. When we attempt to scrape data from our NBA Leaders source (https://www.nba.com/stats/leaders?Season=2023-24&SeasonType=Regular+Season) by using the <tr> tag, we get None or an empty list in return. However, we can see the tr tag when we inspect the website. How do we fix it/what are we doing wrong?\n",
    "2. How do I bypass a 403 error? Our origial source for Official NBA Player salaries: (https://www.espn.com/nba/salaries) returns a 403 error when we run a GET request. Does this mean we have to find another data source? (We have replaced this source with data from HoopsHype [https://hoopshype.com/salaries/players/])\n",
    "3. If our source has drop-down menus for different seasons, how should we go about extracting data from each one to create one dataframe with information? \n",
    "4. How should we format our final data set? We will have different NBA statistical categories (PPG, APG, RPG, etc.) that span over 10 years for each player. What should our rows and columns look like and how do we best organize them? Is there a limit on how many columns we can have?\n",
    "5. What does it mean by raw source data and how do we know if it is applicable to us?\n",
    "6. How should we format our data? Since we are working with data that varies by season/year, what would be the best way to organize all of our data? Should we change our idea to make it easier to format data?"
   ]
  }
 ],
 "metadata": {
  "kernelspec": {
   "display_name": "Python 3 (ipykernel)",
   "language": "python",
   "name": "python3"
  },
  "language_info": {
   "codemirror_mode": {
    "name": "ipython",
    "version": 3
   },
   "file_extension": ".py",
   "mimetype": "text/x-python",
   "name": "python",
   "nbconvert_exporter": "python",
   "pygments_lexer": "ipython3",
   "version": "3.12.2"
  }
 },
 "nbformat": 4,
 "nbformat_minor": 5
}
